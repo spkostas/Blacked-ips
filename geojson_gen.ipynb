{
 "cells": [
  {
   "cell_type": "code",
   "execution_count": null,
   "metadata": {
    "scrolled": false
   },
   "outputs": [],
   "source": [
    "from bs4 import BeautifulSoup\n",
    "import requests\n",
    "from urllib.request import urlopen\n",
    "import pandas as pd\n",
    "import folium.plugins\n",
    "import IP2Location\n",
    "\n",
    "url = 'https://github.com/firehol/blocklist-ipsets'\n",
    "ext2 = 'netset'\n",
    "ext1 = 'ipset'\n",
    "ext3 = 'https://raw.githubusercontent.com/firehol/blocklist-ipsets/master/'\n",
    "counter = 0\n",
    "allo=[]\n",
    "IP2LocObj = IP2Location.IP2Location()\n",
    "IP2LocObj.open(\"IP2LOCATION-LITE-DB5_1.BIN\")\n",
    "marker_locations=[]\n",
    "marker_name=[]\n",
    "\n",
    "def listf(url,ext = ''):\n",
    "    page = requests.get(url).text\n",
    "    soup = BeautifulSoup(page,'html.parser')\n",
    "    return ['https://raw.githubusercontent.com' + node.get('href') for node in soup.find_all('a') if node.get('href').endswith(ext)]\n",
    "\n",
    "for file in listf(url, ext2):\n",
    "    counter = counter +1\n",
    "    file = file.replace('/blob','')\n",
    "    print(file)\n",
    "    df = pd.read_csv(file,sep=\";\",index_col=False)\n",
    "    for rows in df.iterrows():\n",
    "        if '#' not in rows[1][0]:\n",
    "            rows[1][0] =rows[1][0].split(\"/\")[0]\n",
    "            file.replace(ext3,'')\n",
    "            \n",
    "            allo.append((IP2LocObj.get_all(rows[1][0]),rows[1][0],file))\n",
    "            \n",
    "            marker_locations.append((IP2LocObj.get_all(rows[1][0]).latitude,IP2LocObj.get_all(rows[1][0]).longitude))\n",
    "            \n",
    "           \n"
   ]
  },
  {
   "cell_type": "code",
   "execution_count": null,
   "metadata": {},
   "outputs": [],
   "source": [
    "counter =0\n",
    "for file in listf(url, ext1):\n",
    "    if (counter == 0):\n",
    "        counter = 1\n",
    "        continue\n",
    "    file = file.replace('/blob','')\n",
    "    print(file)\n",
    "    df = pd.read_csv(file,sep=\"sfx\",index_col=False)\n",
    "    for rows in df.iterrows():  \n",
    "        if '#' not in rows[1][0]:  \n",
    "            \n",
    "             allo.append((IP2LocObj.get_all(rows[1][0]),rows[1][0],file)) "
   ]
  },
  {
   "cell_type": "code",
   "execution_count": null,
   "metadata": {},
   "outputs": [],
   "source": [
    "import geopandas\n",
    "import mapboxgl\n",
    "from geojson import Point,FeatureCollection,Feature\n",
    "features = []\n",
    "x = 0\n",
    "scalerank = 1\n",
    "for i in allo:\n",
    "    point = Point (([i[0].longitude,i[0].latitude]))\n",
    "    features.append(({\n",
    "      \"type\": \"Feature\",\n",
    "      \"properties\": {\n",
    "        \"scalerank\": scalerank,\n",
    "        \"name\": i[0].ip,\n",
    "        \"comment\": \"haha\",\n",
    "        \"name_alt\": i[0].ip,\n",
    "        \"lat_y\": i[0].latitude,\n",
    "        \"long_x\": i[0].longitude,\n",
    "        \"region\": i[0].region,\n",
    "        \"subregion\": i[0].city,\n",
    "        \"featureclass\": \"\"\n",
    "      },\n",
    "      \"geometry\": {\n",
    "        \"type\": \"Point\",\n",
    "        \"coordinates\": [i[0].longitude, i[0].latitude]\n",
    "      }\n",
    "    }))\n",
    "    x = x +1\n",
    "    if x == 100000:\n",
    "        break\n",
    "   \n",
    "        \n"
   ]
  },
  {
   "cell_type": "code",
   "execution_count": null,
   "metadata": {},
   "outputs": [],
   "source": [
    "feature_collection = FeatureCollection(features)\n"
   ]
  },
  {
   "cell_type": "code",
   "execution_count": null,
   "metadata": {},
   "outputs": [],
   "source": [
    "with open('./SUPERCLUSTER/TEXT/FIXTURES/places.json', 'w') as f: #edit your  path\n",
    "   json.dump(feature_collection,f,indent=4)"
   ]
  }
 ],
 "metadata": {
  "kernelspec": {
   "display_name": "Python 3",
   "language": "python",
   "name": "python3"
  },
  "language_info": {
   "codemirror_mode": {
    "name": "ipython",
    "version": 3
   },
   "file_extension": ".py",
   "mimetype": "text/x-python",
   "name": "python",
   "nbconvert_exporter": "python",
   "pygments_lexer": "ipython3",
   "version": "3.7.4"
  }
 },
 "nbformat": 4,
 "nbformat_minor": 2
}
