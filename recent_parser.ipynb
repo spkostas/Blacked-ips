{
 "cells": [
  {
   "cell_type": "code",
   "execution_count": 1,
   "id": "intimate-jungle",
   "metadata": {},
   "outputs": [
    {
     "name": "stdout",
     "output_type": "stream",
     "text": [
      "2021-07-13\n"
     ]
    }
   ],
   "source": [
    "import IP2Location #convert ip to latlon\n",
    "import csv,json \n",
    "import pathlib\n",
    "import requests\n",
    "from urllib.request import urlopen\n",
    "import pandas as pd\n",
    "from git import Repo\n",
    "import os\n",
    "#DBs\n",
    "import sqlite3\n",
    "import pymysql\n",
    "import re\n",
    "import datetime\n",
    "from datetime import date,timedelta\n",
    "from time import strptime\n",
    "\n",
    "r = Repo(str(pathlib.Path().resolve())+'/blacklisted_ipsets/')\n",
    "\n",
    "plus = \"^\\+\\d{1}\"\n",
    "minus = \"^\\-\\d{1}\"\n",
    "IP2LocObj = IP2Location.IP2Location()\n",
    "IP2LocObj.open('/home/dakes/Downloads/Jupyter_scripts/IP2LOCATION-LITE-DB5.BIN')\n",
    "ff=[] \n",
    "allo=[]\n",
    "x = datetime.datetime.now()\n",
    "today= date(x.year,x.month,x.day)\n",
    "print(today)\n",
    "import pathlib\n",
    "#print(pathlib.Path().resolve())"
   ]
  },
  {
   "cell_type": "code",
   "execution_count": null,
   "id": "mental-reconstruction",
   "metadata": {},
   "outputs": [],
   "source": [
    "for remote in r.remotes:\n",
    "    remote.fetch()"
   ]
  },
  {
   "cell_type": "code",
   "execution_count": 2,
   "id": "framed-marketplace",
   "metadata": {},
   "outputs": [],
   "source": [
    "import mysql.connector\n"
   ]
  },
  {
   "cell_type": "code",
   "execution_count": 3,
   "id": "utility-vietnam",
   "metadata": {},
   "outputs": [],
   "source": [
    "mydb = mysql.connector.connect(\n",
    "    host=\"127.0.0.1\",\n",
    "    user=\"root\",\n",
    "    database=\"Blocklists\"\n",
    "    \n",
    "    #auth_plugin='mysql_native_password'\n",
    ")\n",
    "mycursor= mydb.cursor()\n",
    "mycursor.execute(\"CREATE  TABLE IF NOT EXISTS Ipsets(ip  VARCHAR(255),location VARCHAR(255),source VARCHAR(255),category VARCHAR(255),description VARCHAR(255),maintainer VARCHAR(255),alt1 VARCHAR(255),alt2 VARCHAR(255))\")\n",
    "#,geo POINT                                  "
   ]
  },
  {
   "cell_type": "code",
   "execution_count": null,
   "id": "governing-holiday",
   "metadata": {},
   "outputs": [],
   "source": [
    "mycursor.execute(\"SHOW TABLES\")\n",
    "\n",
    "for x in mycursor:\n",
    "    print(x)"
   ]
  },
  {
   "cell_type": "code",
   "execution_count": null,
   "id": "refined-sunglasses",
   "metadata": {},
   "outputs": [],
   "source": [
    "fnames=[]\n",
    "with open('blacklisted_ipsets.csv', 'w', newline='') as csvfile:\n",
    "        spamwriter = csv.writer(csvfile, delimiter=',',quotechar='|', quoting=csv.QUOTE_MINIMAL)\n",
    "        spamwriter.writerow(['Name'])#,'Maintainer','Maintainer URL','Tracker List Url','Source File Date','File Update','Last update','IPs'])#+x.month*100 + x.day)\n",
    "        for path in pathlib.Path(\"/home/dakes/blacklisted_ipsets\").iterdir():\n",
    "            if str(path).endswith('.netset') or str(path).endswith('.ipset'):\n",
    "                df = pd.read_csv(path,sep=\";ofi\",index_col=False,engine='python')\n",
    "                for line in df.iterrows():\n",
    "                        if \"# Category\" in line[1][0] :\n",
    "                                    if \"malware\" not in line[1][0] and \"spam\" not in line[1][0] and \"attacks\" not in line[1][0]:  \n",
    "                                        break\n",
    "                                    else:\n",
    "                                        fnames.append(str(path).replace(\"/home/dakes/blacklisted_ipsets/\",\"\"))\n",
    "                                        name = str(path).replace('/home/dakes/blacklisted_ipsets/','')\n",
    "                                        spamwriter.writerow([name.replace('/home/dakes/blacklisted_ipsets/','')])#,maintainer,maintainerURL,listSourceUrl,sourceFileDate,recentFileUpdate,(x.month*100+x.day),','.join(diff_cut)])\n",
    "\n",
    "#print((fnames))\n",
    "with open(\"olatafiles.json\",\"w\") as f: #edit your  path\n",
    "    json.dump(fnames,f,indent=4) \n",
    "f.close()\n",
    "print(len(fnames))"
   ]
  },
  {
   "cell_type": "code",
   "execution_count": 28,
   "id": "empirical-differential",
   "metadata": {
    "scrolled": true
   },
   "outputs": [
    {
     "ename": "KeyboardInterrupt",
     "evalue": "",
     "output_type": "error",
     "traceback": [
      "\u001b[0;31m---------------------------------------------------------------------------\u001b[0m",
      "\u001b[0;31mKeyboardInterrupt\u001b[0m                         Traceback (most recent call last)",
      "\u001b[0;32m<ipython-input-28-e17786b49d42>\u001b[0m in \u001b[0;36m<module>\u001b[0;34m\u001b[0m\n\u001b[1;32m     79\u001b[0m                             \u001b[0;31m#print(deleto)\u001b[0m\u001b[0;34m\u001b[0m\u001b[0;34m\u001b[0m\u001b[0;34m\u001b[0m\u001b[0m\n\u001b[1;32m     80\u001b[0m                             \u001b[0;31m#query=deleto+line.replace('-',\"\")\u001b[0m\u001b[0;34m\u001b[0m\u001b[0;34m\u001b[0m\u001b[0;34m\u001b[0m\u001b[0m\n\u001b[0;32m---> 81\u001b[0;31m                             \u001b[0mmycursor\u001b[0m\u001b[0;34m.\u001b[0m\u001b[0mexecute\u001b[0m\u001b[0;34m(\u001b[0m\u001b[0mdeleto\u001b[0m\u001b[0;34m)\u001b[0m\u001b[0;34m\u001b[0m\u001b[0;34m\u001b[0m\u001b[0m\n\u001b[0m\u001b[1;32m     82\u001b[0m \u001b[0;34m\u001b[0m\u001b[0m\n\u001b[1;32m     83\u001b[0m                     \u001b[0;32mbreak\u001b[0m\u001b[0;34m\u001b[0m\u001b[0;34m\u001b[0m\u001b[0m\n",
      "\u001b[0;32m~/.local/lib/python3.8/site-packages/mysql/connector/cursor.py\u001b[0m in \u001b[0;36mexecute\u001b[0;34m(self, operation, params, multi)\u001b[0m\n\u001b[1;32m    549\u001b[0m         \u001b[0;32melse\u001b[0m\u001b[0;34m:\u001b[0m\u001b[0;34m\u001b[0m\u001b[0;34m\u001b[0m\u001b[0m\n\u001b[1;32m    550\u001b[0m             \u001b[0;32mtry\u001b[0m\u001b[0;34m:\u001b[0m\u001b[0;34m\u001b[0m\u001b[0;34m\u001b[0m\u001b[0m\n\u001b[0;32m--> 551\u001b[0;31m                 \u001b[0mself\u001b[0m\u001b[0;34m.\u001b[0m\u001b[0m_handle_result\u001b[0m\u001b[0;34m(\u001b[0m\u001b[0mself\u001b[0m\u001b[0;34m.\u001b[0m\u001b[0m_connection\u001b[0m\u001b[0;34m.\u001b[0m\u001b[0mcmd_query\u001b[0m\u001b[0;34m(\u001b[0m\u001b[0mstmt\u001b[0m\u001b[0;34m)\u001b[0m\u001b[0;34m)\u001b[0m\u001b[0;34m\u001b[0m\u001b[0;34m\u001b[0m\u001b[0m\n\u001b[0m\u001b[1;32m    552\u001b[0m             \u001b[0;32mexcept\u001b[0m \u001b[0merrors\u001b[0m\u001b[0;34m.\u001b[0m\u001b[0mInterfaceError\u001b[0m\u001b[0;34m:\u001b[0m\u001b[0;34m\u001b[0m\u001b[0;34m\u001b[0m\u001b[0m\n\u001b[1;32m    553\u001b[0m                 \u001b[0;32mif\u001b[0m \u001b[0mself\u001b[0m\u001b[0;34m.\u001b[0m\u001b[0m_connection\u001b[0m\u001b[0;34m.\u001b[0m\u001b[0m_have_next_result\u001b[0m\u001b[0;34m:\u001b[0m  \u001b[0;31m# pylint: disable=W0212\u001b[0m\u001b[0;34m\u001b[0m\u001b[0;34m\u001b[0m\u001b[0m\n",
      "\u001b[0;32m~/.local/lib/python3.8/site-packages/mysql/connector/connection.py\u001b[0m in \u001b[0;36mcmd_query\u001b[0;34m(self, query, raw, buffered, raw_as_string)\u001b[0m\n\u001b[1;32m    488\u001b[0m         \u001b[0;32mif\u001b[0m \u001b[0;32mnot\u001b[0m \u001b[0misinstance\u001b[0m\u001b[0;34m(\u001b[0m\u001b[0mquery\u001b[0m\u001b[0;34m,\u001b[0m \u001b[0mbytes\u001b[0m\u001b[0;34m)\u001b[0m\u001b[0;34m:\u001b[0m\u001b[0;34m\u001b[0m\u001b[0;34m\u001b[0m\u001b[0m\n\u001b[1;32m    489\u001b[0m             \u001b[0mquery\u001b[0m \u001b[0;34m=\u001b[0m \u001b[0mquery\u001b[0m\u001b[0;34m.\u001b[0m\u001b[0mencode\u001b[0m\u001b[0;34m(\u001b[0m\u001b[0;34m'utf-8'\u001b[0m\u001b[0;34m)\u001b[0m\u001b[0;34m\u001b[0m\u001b[0;34m\u001b[0m\u001b[0m\n\u001b[0;32m--> 490\u001b[0;31m         \u001b[0mresult\u001b[0m \u001b[0;34m=\u001b[0m \u001b[0mself\u001b[0m\u001b[0;34m.\u001b[0m\u001b[0m_handle_result\u001b[0m\u001b[0;34m(\u001b[0m\u001b[0mself\u001b[0m\u001b[0;34m.\u001b[0m\u001b[0m_send_cmd\u001b[0m\u001b[0;34m(\u001b[0m\u001b[0mServerCmd\u001b[0m\u001b[0;34m.\u001b[0m\u001b[0mQUERY\u001b[0m\u001b[0;34m,\u001b[0m \u001b[0mquery\u001b[0m\u001b[0;34m)\u001b[0m\u001b[0;34m)\u001b[0m\u001b[0;34m\u001b[0m\u001b[0;34m\u001b[0m\u001b[0m\n\u001b[0m\u001b[1;32m    491\u001b[0m \u001b[0;34m\u001b[0m\u001b[0m\n\u001b[1;32m    492\u001b[0m         \u001b[0;32mif\u001b[0m \u001b[0mself\u001b[0m\u001b[0;34m.\u001b[0m\u001b[0m_have_next_result\u001b[0m\u001b[0;34m:\u001b[0m\u001b[0;34m\u001b[0m\u001b[0;34m\u001b[0m\u001b[0m\n",
      "\u001b[0;32m~/.local/lib/python3.8/site-packages/mysql/connector/connection.py\u001b[0m in \u001b[0;36m_send_cmd\u001b[0;34m(self, command, argument, packet_number, packet, expect_response, compressed_packet_number)\u001b[0m\n\u001b[1;32m    265\u001b[0m         \u001b[0;32mif\u001b[0m \u001b[0;32mnot\u001b[0m \u001b[0mexpect_response\u001b[0m\u001b[0;34m:\u001b[0m\u001b[0;34m\u001b[0m\u001b[0;34m\u001b[0m\u001b[0m\n\u001b[1;32m    266\u001b[0m             \u001b[0;32mreturn\u001b[0m \u001b[0;32mNone\u001b[0m\u001b[0;34m\u001b[0m\u001b[0;34m\u001b[0m\u001b[0m\n\u001b[0;32m--> 267\u001b[0;31m         \u001b[0;32mreturn\u001b[0m \u001b[0mself\u001b[0m\u001b[0;34m.\u001b[0m\u001b[0m_socket\u001b[0m\u001b[0;34m.\u001b[0m\u001b[0mrecv\u001b[0m\u001b[0;34m(\u001b[0m\u001b[0;34m)\u001b[0m\u001b[0;34m\u001b[0m\u001b[0;34m\u001b[0m\u001b[0m\n\u001b[0m\u001b[1;32m    268\u001b[0m \u001b[0;34m\u001b[0m\u001b[0m\n\u001b[1;32m    269\u001b[0m     \u001b[0;32mdef\u001b[0m \u001b[0m_send_data\u001b[0m\u001b[0;34m(\u001b[0m\u001b[0mself\u001b[0m\u001b[0;34m,\u001b[0m \u001b[0mdata_file\u001b[0m\u001b[0;34m,\u001b[0m \u001b[0msend_empty_packet\u001b[0m\u001b[0;34m=\u001b[0m\u001b[0;32mFalse\u001b[0m\u001b[0;34m)\u001b[0m\u001b[0;34m:\u001b[0m\u001b[0;34m\u001b[0m\u001b[0;34m\u001b[0m\u001b[0m\n",
      "\u001b[0;32m~/.local/lib/python3.8/site-packages/mysql/connector/network.py\u001b[0m in \u001b[0;36mrecv_plain\u001b[0;34m(self)\u001b[0m\n\u001b[1;32m    239\u001b[0m             \u001b[0mpacket_len\u001b[0m \u001b[0;34m=\u001b[0m \u001b[0;36m0\u001b[0m\u001b[0;34m\u001b[0m\u001b[0;34m\u001b[0m\u001b[0m\n\u001b[1;32m    240\u001b[0m             \u001b[0;32mwhile\u001b[0m \u001b[0mpacket_len\u001b[0m \u001b[0;34m<\u001b[0m \u001b[0;36m4\u001b[0m\u001b[0;34m:\u001b[0m\u001b[0;34m\u001b[0m\u001b[0;34m\u001b[0m\u001b[0m\n\u001b[0;32m--> 241\u001b[0;31m                 \u001b[0mchunk\u001b[0m \u001b[0;34m=\u001b[0m \u001b[0mself\u001b[0m\u001b[0;34m.\u001b[0m\u001b[0msock\u001b[0m\u001b[0;34m.\u001b[0m\u001b[0mrecv\u001b[0m\u001b[0;34m(\u001b[0m\u001b[0;36m4\u001b[0m \u001b[0;34m-\u001b[0m \u001b[0mpacket_len\u001b[0m\u001b[0;34m)\u001b[0m\u001b[0;34m\u001b[0m\u001b[0;34m\u001b[0m\u001b[0m\n\u001b[0m\u001b[1;32m    242\u001b[0m                 \u001b[0;32mif\u001b[0m \u001b[0;32mnot\u001b[0m \u001b[0mchunk\u001b[0m\u001b[0;34m:\u001b[0m\u001b[0;34m\u001b[0m\u001b[0;34m\u001b[0m\u001b[0m\n\u001b[1;32m    243\u001b[0m                     \u001b[0;32mraise\u001b[0m \u001b[0merrors\u001b[0m\u001b[0;34m.\u001b[0m\u001b[0mInterfaceError\u001b[0m\u001b[0;34m(\u001b[0m\u001b[0merrno\u001b[0m\u001b[0;34m=\u001b[0m\u001b[0;36m2013\u001b[0m\u001b[0;34m)\u001b[0m\u001b[0;34m\u001b[0m\u001b[0;34m\u001b[0m\u001b[0m\n",
      "\u001b[0;31mKeyboardInterrupt\u001b[0m: "
     ]
    }
   ],
   "source": [
    "        insert_ip = \"INSERT INTO Ipsets (ip,location,source,category,description,maintainer ,alt1,alt2 ) VALUES (%s,%s,%s,%s,%s,%s,%s,%s)\"\n",
    "        with open(\"/home/dakes/description.json\",'r') as jsf:\n",
    "            descr = json.load(jsf,strict = False)\n",
    "        files=[]\n",
    "        removed=[]\n",
    "    \n",
    "        for path in pathlib.Path(\"/home/dakes/blacklisted_ipsets\").iterdir():\n",
    "            flag =False\n",
    "            if str(path).endswith('.netset') or str(path).endswith('.ipset'):\n",
    "                diff_cut=[]\n",
    "                df = pd.read_csv(path,sep=\";ofi\",index_col=False,engine='python')\n",
    "                name=''\n",
    "                maintainer=''\n",
    "                maintainerURL=''\n",
    "                listSourceUrl=''\n",
    "                sourceFileDate=''\n",
    "                recentFileUpdate=''\n",
    "                for line in df.iterrows():\n",
    "                        if \"# Category\" in line[1][0] :\n",
    "                            if \"malware\" not in line[1][0] and \"spam\" not in line[1][0] and \"attacks\" not in line[1][0]:  \n",
    "                                break\n",
    "                            else:\n",
    "                                category = line[1][0].replace(\"# Category      : \",\"\")\n",
    "                        if \"# Maintainer      :\" in line[1][0]:\n",
    "                            maintainer = line[1][0].replace(\"# Maintainer      : \",\"\")\n",
    "                        if \"# Maintainer URL  :\" in line[1][0]:\n",
    "                            maintainerURL = line[1][0].replace(\"# Maintainer URL  : \",\"\")\n",
    "                        if \"# List source URL :\" in line[1][0]:\n",
    "                            listSourceUrl = line[1][0].replace(\"# List source URL : \",\"\")\n",
    "                        if \"# Source File Date:\" in line[1][0]:\n",
    "                            sourceFileDate = line[1][0].replace(\"# Source File Date: \",\"\")\n",
    "                                \n",
    "                        if \"# This File Date  :\" in line[1][0]:\n",
    "                            year=0\n",
    "                            timestamp=''\n",
    "                            recentFileUpdate = line[1][0].replace(\"# This File Date  : \",\"\")\n",
    "                            name = str(path).replace('/home/dakes/blacklisted_ipsets/','')\n",
    "                            timestamp=recentFileUpdate.split(' ')\n",
    "                            timestamp=list(filter(None,timestamp))\n",
    "                            \n",
    "                            day=int(timestamp[2])\n",
    "                            month = strptime(timestamp[1],'%b').tm_mon\n",
    "                            year = int(timestamp[5])\n",
    "\n",
    "                            anyday = date(year,month,day)\n",
    "                            \n",
    "                            #print(today-anyday)\n",
    "                            if today-anyday <=timedelta(days=40) :\n",
    "                                flag=True\n",
    "                            else:\n",
    "                                flag=False\n",
    "                                break\n",
    "                            \n",
    "                            \n",
    "                            diff = r.git.diff(\"@{upstream}\",name)\n",
    "                            source = str(path)\n",
    "                            des = source.replace(\"/home/dakes/blacklisted_ipsets/\",\"\")\n",
    "                            des = des.replace('.ipset',\"\")\n",
    "                            des = des.replace('.netset',\"\")\n",
    "                            for line in diff.splitlines():\n",
    "                                if re.findall(plus,line): #create today's list\n",
    "                                    #print(line)\n",
    "                                    line = line.split('/',1)[0]\n",
    "                                    line = \".\".join(line.split('.')[0:-1])\n",
    "                                    line = line +'.1'\n",
    "                                    diff_cut.append(line.replace('+',\"\"))\n",
    "                                    rec =  IP2LocObj.get_all(line.replace('+',\"\"))\n",
    "                                    \n",
    "                                    here = (rec.ip,rec.city,listSourceUrl,category,\"descr[des]\",maintainer,\"extreme-ip-lookup.com/\"+rec.ip,\"talosintelligence.com/reputation_center/lookup?search=\"+rec.ip)\n",
    "                                    mycursor.execute(insert_ip,here)\n",
    "                                    \n",
    "                                elif re.findall(minus,line): #removes last day of the week and (-) of other days\n",
    "                                    line = line.split('/',1)[0]\n",
    "                                    line = \".\".join(line.split('.')[0:-1])\n",
    "                                    line = line +'.1'\n",
    "                                    rec =  IP2LocObj.get_all(line.replace('-',\"\"))\n",
    "                                    \n",
    "                                    deleto = \"DELETE from Ipsets WHERE ip = '$rec.ip'\"\n",
    "                                    #print(deleto)\n",
    "                                    #query=deleto+line.replace('-',\"\")\n",
    "                                    mycursor.execute(deleto)\n",
    "                                    \n",
    "                            break      \n",
    "                if  flag:\n",
    "                    #print(flag,recentFileUpdate)\n",
    "                    files.append((name,maintainer,maintainerURL,listSourceUrl,sourceFileDate,recentFileUpdate,diff_cut,descr[des]))\n",
    "mydb.commit()\n",
    "print(mycursor.rowcount, \"record inserted.\")\n",
    "\n",
    "#print(len(files))\n"
   ]
  },
  {
   "cell_type": "code",
   "execution_count": 25,
   "id": "operational-design",
   "metadata": {},
   "outputs": [],
   "source": [
    "insert_ip = \"INSERT INTO Ipsets (ip,location,source,category,description,maintainer ,alt1,alt2 ) VALUES (%s,%s,%s,%s,%s,%s,%s,%s)\"\n",
    "here = []\n",
    "for i in files:\n",
    "    if not i[6] or i[6]=='127.0.0.1' or i[6]=='192.168.1.1':\n",
    "        continue\n",
    "    else:\n",
    "        for ip in i[6]:\n",
    "            rec =  IP2LocObj.get_all(ip)\n",
    "            thisip = rec.ip#\".\".join(rec.ip.split('.')[0:-1])+'.*'\n",
    "            thissource= \"https://github.com/firehol/blocklist-ipsets/blob/master/\"+i[0].replace('/home/dakes/blacklisted_ipsets/','')\n",
    "            here.append((thisip,rec.city,thissource,'malware',i[7],i[1],\"extreme-ip-lookup.com/\"+rec.ip,\"talosintelligence.com/reputation_center/lookup?search=\"+rec.ip))\n"
   ]
  },
  {
   "cell_type": "code",
   "execution_count": null,
   "id": "substantial-complement",
   "metadata": {},
   "outputs": [],
   "source": [
    "print((here[0]))\n",
    "print(len(insert_ip))"
   ]
  },
  {
   "cell_type": "code",
   "execution_count": null,
   "id": "treated-subdivision",
   "metadata": {},
   "outputs": [],
   "source": [
    "mycursor.executemany(insert_ip,here)"
   ]
  },
  {
   "cell_type": "code",
   "execution_count": null,
   "id": "precious-retirement",
   "metadata": {},
   "outputs": [],
   "source": [
    "features=[]\n",
    "for i in files:\n",
    "    if not i[6] or i[6]=='127.0.0.1' or i[6]=='192.168.1.1':\n",
    "        continue\n",
    "    else:\n",
    "        for ip in i[6]:\n",
    "            rec =  IP2LocObj.get_all(ip)\n",
    "            #print(\".\".join(ip.split('.')[0:-1])+'.*')\n",
    "            features.append(({\n",
    "                                  \"type\": \"Feature\",\n",
    "                                  \"properties\": {\n",
    "                                    \"location\": rec.city,\n",
    "                                    \"source\":\"https://github.com/firehol/blocklist-ipsets/blob/master/\"+i[0].replace('/home/dakes/blacklisted_ipsets/',''),\n",
    "                                    \"ip\": \".\".join(rec.ip.split('.')[0:-1])+'.*',\n",
    "                                    \"maintainer\":i[1],\n",
    "                                    \"category\" : \"malware\",\n",
    "                                    \"description\": i[7],\n",
    "                                    \"alt1\": \"extreme-ip-lookup.com/\"+rec.ip,\n",
    "                                    \"alt2\":\"talosintelligence.com/reputation_center/lookup?search=\"+rec.ip\n",
    "                                    #\"0datetime\":i[7]\n",
    "                                  },\n",
    "                                  \"geometry\": {\n",
    "                                    \"type\": \"Point\",\n",
    "                                    \"coordinates\": [float(rec.longitude), float(rec.latitude)]\n",
    "                                  }\n",
    "                                }))\n",
    "#len(features)\n",
    "#del features[1000:]\n",
    "#len(features)\n"
   ]
  }
 ],
 "metadata": {
  "kernelspec": {
   "display_name": "Python 3",
   "language": "python",
   "name": "python3"
  },
  "language_info": {
   "codemirror_mode": {
    "name": "ipython",
    "version": 3
   },
   "file_extension": ".py",
   "mimetype": "text/x-python",
   "name": "python",
   "nbconvert_exporter": "python",
   "pygments_lexer": "ipython3",
   "version": "3.8.10"
  }
 },
 "nbformat": 4,
 "nbformat_minor": 5
}
