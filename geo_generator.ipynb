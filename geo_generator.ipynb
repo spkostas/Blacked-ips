{
 "cells": [
  {
   "cell_type": "code",
   "execution_count": 71,
   "metadata": {},
   "outputs": [
    {
     "name": "stderr",
     "output_type": "stream",
     "text": [
      "D:\\Users\\kosta\\Anaconda3\\lib\\site-packages\\ipykernel_launcher.py:29: ParserWarning: Falling back to the 'python' engine because the 'c' engine does not support regex separators (separators > 1 char and different from '\\s+' are interpreted as regex); you can avoid this warning by specifying engine='python'.\n"
     ]
    }
   ],
   "source": [
    "from bs4 import BeautifulSoup\n",
    "import requests\n",
    "from urllib.request import urlopen\n",
    "import pandas as pd\n",
    "import folium.plugins\n",
    "import IP2Location\n",
    "\n",
    "url = 'https://github.com/firehol/blocklist-ipsets'\n",
    "ext2 = 'netset'\n",
    "ext1 = '.ipset'\n",
    "ext3 = 'https://raw.githubusercontent.com/firehol/blocklist-ipsets/master/'\n",
    "counter = 0\n",
    "allo=[]\n",
    "IP2LocObj = IP2Location.IP2Location()\n",
    "IP2LocObj.open(\"IP2LOCATION-LITE-DB5_1.BIN\")\n",
    "marker_locations=[]\n",
    "marker_ip=[]\n",
    "marker_name=[]\n",
    "\n",
    "def listf(url,ext = ''):\n",
    "    page = requests.get(url).text\n",
    "    soup = BeautifulSoup(page,'html.parser')\n",
    "    return ['https://raw.githubusercontent.com' + node.get('href') for node in soup.find_all('a') if node.get('href').endswith(ext)]\n",
    "\n",
    "for file in listf(url, ext1):\n",
    "    attack =0\n",
    "    counter = counter +1\n",
    "    file = file.replace('/blob','')\n",
    "    df = pd.read_csv(file,sep=\";ofi\",index_col=False)\n",
    "    for rows in df.iterrows():\n",
    "        if \"# Category\" in rows[1][0]:\n",
    "            if \"malware\" in rows[1][0] or  \"attacks\" in rows[1][0]:\n",
    "                attack =1\n",
    "            else :\n",
    "                break\n",
    "                \n",
    "        if '#' not in rows[1][0] and attack == 1:\n",
    "            rows[1][0] =rows[1][0].split(\"/\")[0]\n",
    "            file.replace(ext3,'')\n",
    "            rec = IP2LocObj.get_all(rows[1][0])\n",
    "            if rec.country_long == \"Greece\":\n",
    "            #allo.append((IP2LocObj.get_all(rows[1][0]),rows[1][0],file))\n",
    "            #if IP2LocObj.get_all(rows[1][0].latitude) == \"Greece\":\n",
    "                marker_locations.append((rec.latitude,rec.longitude))\n",
    "                marker_ip.append(rec.ip)\n",
    "                marker_name.append(file)\n",
    "\n",
    "            \n",
    "\n"
   ]
  },
  {
   "cell_type": "code",
   "execution_count": 72,
   "metadata": {},
   "outputs": [
    {
     "name": "stderr",
     "output_type": "stream",
     "text": [
      "D:\\Users\\kosta\\Anaconda3\\lib\\site-packages\\ipykernel_launcher.py:5: ParserWarning: Falling back to the 'python' engine because the 'c' engine does not support regex separators (separators > 1 char and different from '\\s+' are interpreted as regex); you can avoid this warning by specifying engine='python'.\n",
      "  \"\"\"\n"
     ]
    }
   ],
   "source": [
    "for file in listf(url, ext2):\n",
    "    attack =0\n",
    "    counter = counter +1\n",
    "    file = file.replace('/blob','')\n",
    "    df = pd.read_csv(file,sep=\";ofi\",index_col=False)\n",
    "    for rows in df.iterrows():\n",
    "        if \"# Category\" in rows[1][0]:\n",
    "            if \"malware\" in rows[1][0] or  \"attacks\" in rows[1][0]:\n",
    "                attack =1\n",
    "            else :\n",
    "                break\n",
    "                \n",
    "        if '#' not in rows[1][0] and attack == 1:\n",
    "            rows[1][0] =rows[1][0].split(\"/\")[0]\n",
    "            file.replace(ext3,'')\n",
    "            rec = IP2LocObj.get_all(rows[1][0])\n",
    "            if rec.country_long == \"Greece\":\n",
    "            #allo.append((IP2LocObj.get_all(rows[1][0]),rows[1][0],file))\n",
    "            #if IP2LocObj.get_all(rows[1][0].latitude) == \"Greece\":\n",
    "                marker_locations.append((rec.latitude,rec.longitude))\n",
    "                marker_ip.append(rec.ip)\n",
    "                marker_name.append(file)"
   ]
  },
  {
   "cell_type": "code",
   "execution_count": 75,
   "metadata": {},
   "outputs": [
    {
     "name": "stdout",
     "output_type": "stream",
     "text": [
      "667\n",
      "667\n",
      "667\n"
     ]
    }
   ],
   "source": [
    "import folium\n",
    "from folium.plugins import MarkerCluster\n",
    "ext3 = 'https://raw.githubusercontent.com/firehol/blocklist-ipsets/master/'\n",
    "MarkerCluster()\n",
    "m = folium.Map( zoom_start=10, control_scale=True)\n",
    "marker_cluster = folium.plugins.MarkerCluster().add_to(m)\n",
    "print(len(marker_locations))\n",
    "print(len(marker_name))\n",
    "print(len(marker_ip))\n",
    "\n",
    "for i in range (len(marker_locations)):\n",
    "    #marker = folium.Marker(location=marker_locations[i])    \n",
    "    #popup_file = folium.Popup('<a href=\"www.google.com\"> [marker_name[i]] </a>')   \n",
    "    #popup_ip = folium.Popup('<a href=\" [https:www.github.com] \"target=\"_blank\"> [marker_ip[i]] </a>')\n",
    "    #marker_name[i] = marker_name[i].replace('/raw','')\n",
    "    \n",
    "    \n",
    "    tooltip = marker_name[i] + '  \\n '+ marker_ip[i]\n",
    "    #folium.Popup(popup_file).add_to(marker)\n",
    "    #folium.Popup(popup_ip).add_to(marker)\n",
    "    #marker_cluster.add_child(marker)\n",
    "    marker = folium.Marker(marker_locations[i], popup='<a href=\"'+marker_name[i]+ ' \"target=\"_blank\"> '+marker_name[i]+ ' </a>', tooltip=tooltip)\n",
    "    marker_cluster.add_child(marker)\n",
    "#m.save(\"./renew.html\")\n"
   ]
  },
  {
   "cell_type": "code",
   "execution_count": 76,
   "metadata": {},
   "outputs": [],
   "source": [
    "m.save(\"./renew.html\")"
   ]
  },
  {
   "cell_type": "code",
   "execution_count": null,
   "metadata": {},
   "outputs": [],
   "source": []
  }
 ],
 "metadata": {
  "kernelspec": {
   "display_name": "Django Shell-Plus",
   "language": "python",
   "name": "django_extensions"
  },
  "language_info": {
   "codemirror_mode": {
    "name": "ipython",
    "version": 3
   },
   "file_extension": ".py",
   "mimetype": "text/x-python",
   "name": "python",
   "nbconvert_exporter": "python",
   "pygments_lexer": "ipython3",
   "version": "3.7.4"
  }
 },
 "nbformat": 4,
 "nbformat_minor": 2
}
